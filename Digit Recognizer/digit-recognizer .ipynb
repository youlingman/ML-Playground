{
 "cells": [
  {
   "cell_type": "code",
   "execution_count": 6,
   "metadata": {
    "collapsed": true
   },
   "outputs": [],
   "source": [
    "import numpy as np\n",
    "import pandas as pd\n",
    "import matplotlib.pyplot as plt\n",
    "import math"
   ]
  },
  {
   "cell_type": "markdown",
   "metadata": {},
   "source": [
    "### 解析数据"
   ]
  },
  {
   "cell_type": "code",
   "execution_count": 7,
   "metadata": {
    "collapsed": false,
    "scrolled": false
   },
   "outputs": [],
   "source": [
    "data = pd.read_csv('train.csv')\n",
    "\n",
    "test_data = pd.read_csv('test.csv')"
   ]
  },
  {
   "cell_type": "code",
   "execution_count": 8,
   "metadata": {
    "collapsed": false
   },
   "outputs": [],
   "source": [
    "train_x = data.drop(['label'], axis=1)\n",
    "train_y = data['label']"
   ]
  },
  {
   "cell_type": "markdown",
   "metadata": {},
   "source": [
    "### 可视化"
   ]
  },
  {
   "cell_type": "code",
   "execution_count": 35,
   "metadata": {
    "collapsed": false
   },
   "outputs": [],
   "source": [
    "fig_datas = data.drop('label', 1) / 255\n",
    "label_datas = data['label']\n",
    "\n",
    "test_fig_datas = test_data / 255"
   ]
  },
  {
   "cell_type": "code",
   "execution_count": 56,
   "metadata": {
    "collapsed": true
   },
   "outputs": [],
   "source": [
    "# transform a n*n size series to a n*n data frame \n",
    "def transformDataFrameFromSeries(data):\n",
    "#     df = pd.DataFrame()\n",
    "    size = int(math.sqrt(data.size))\n",
    "#     for i in range(size):\n",
    "#         df = df.append(data.iloc[i * size : (i * size + size)].reset_index(drop=True),ignore_index=True)\n",
    "    return pd.DataFrame(data.reshape((size, size)))"
   ]
  },
  {
   "cell_type": "code",
   "execution_count": 57,
   "metadata": {
    "collapsed": false,
    "scrolled": true
   },
   "outputs": [],
   "source": [
    "# show some fig\n",
    "plt.figure(figsize=(18,9))\n",
    "for i in range(25):\n",
    "    ax = plt.subplot2grid((5,5),(i / 5, i % 5))\n",
    "    fig_data = test_fig_datas.iloc[i]\n",
    "    ax.imshow(transformDataFrameFromSeries(fig_data), cmap=plt.cm.gray_r)\n",
    "    plt.title('fig %s label:%s' % (i, label_datas[i]))\n",
    "plt.tight_layout()\n",
    "plt.show()"
   ]
  },
  {
   "cell_type": "code",
   "execution_count": 107,
   "metadata": {
    "collapsed": false
   },
   "outputs": [],
   "source": [
    "# save some fig\n",
    "for i in range(500):\n",
    "    fig_data = fig_datas.iloc[i]\n",
    "    fig, ax = plt.subplots()\n",
    "    ax.imshow(transformDataFrameFromSeries(fig_data), cmap=plt.cm.gray_r)\n",
    "    plt.savefig('./figs/' + str(i) + '-' + str(label_datas[i]) + '.png')"
   ]
  },
  {
   "cell_type": "markdown",
   "metadata": {},
   "source": [
    "可以看到不同图的有效区域有差异，同时有些图还有旋转的效果。"
   ]
  },
  {
   "cell_type": "markdown",
   "metadata": {},
   "source": [
    "有没有必要对数据作进一步降维处理？"
   ]
  },
  {
   "cell_type": "markdown",
   "metadata": {},
   "source": [
    "直接上random forest试试效果吧"
   ]
  },
  {
   "cell_type": "markdown",
   "metadata": {},
   "source": [
    "### 训练"
   ]
  },
  {
   "cell_type": "code",
   "execution_count": 20,
   "metadata": {
    "collapsed": false
   },
   "outputs": [
    {
     "data": {
      "text/plain": [
       "RandomForestClassifier(bootstrap=True, class_weight=None, criterion='gini',\n",
       "            max_depth=None, max_features='auto', max_leaf_nodes=None,\n",
       "            min_samples_leaf=1, min_samples_split=2,\n",
       "            min_weight_fraction_leaf=0.0, n_estimators=100, n_jobs=1,\n",
       "            oob_score=False, random_state=None, verbose=0,\n",
       "            warm_start=False)"
      ]
     },
     "execution_count": 20,
     "metadata": {},
     "output_type": "execute_result"
    }
   ],
   "source": [
    "from sklearn.ensemble import RandomForestClassifier\n",
    "\n",
    "rf = RandomForestClassifier(n_estimators=100)\n",
    "\n",
    "rf.fit(train_x, train_y)"
   ]
  },
  {
   "cell_type": "code",
   "execution_count": 21,
   "metadata": {
    "collapsed": false
   },
   "outputs": [],
   "source": [
    "test_label_datas = rf.predict(test_data)\n",
    "test_fig_datas = test_data / 255"
   ]
  },
  {
   "cell_type": "code",
   "execution_count": 22,
   "metadata": {
    "collapsed": false
   },
   "outputs": [],
   "source": [
    "# show some fig\n",
    "plt.figure(figsize=(18,9))\n",
    "for i in range(25):\n",
    "    ax = plt.subplot2grid((5,5),(i / 5, i % 5))\n",
    "    fig_data = test_fig_datas.iloc[i]\n",
    "    ax.imshow(transformDataFrameFromSeries(fig_data), cmap=plt.cm.gray_r)\n",
    "    plt.title('fig %s label:%s' % (i, test_label_datas[i]))\n",
    "plt.tight_layout()\n",
    "plt.show()"
   ]
  },
  {
   "cell_type": "markdown",
   "metadata": {},
   "source": [
    "准确率挺厉害的，不过有一个0预测成9了。"
   ]
  },
  {
   "cell_type": "code",
   "execution_count": 23,
   "metadata": {
    "collapsed": true
   },
   "outputs": [],
   "source": [
    "submission = pd.DataFrame({\n",
    "\t\t\t\"ImageId\": range(1, test_data.shape[0]+1),\n",
    "\t\t\t\"label\": test_label_datas})\n",
    "submission.to_csv(\"random_forest.csv\", index=False)"
   ]
  },
  {
   "cell_type": "markdown",
   "metadata": {},
   "source": [
    "什么参数都没调，数据也没做处理，分数已经达到0.96600。"
   ]
  },
  {
   "cell_type": "markdown",
   "metadata": {},
   "source": [
    "再试试K近邻模型"
   ]
  },
  {
   "cell_type": "code",
   "execution_count": 24,
   "metadata": {
    "collapsed": false,
    "scrolled": false
   },
   "outputs": [
    {
     "data": {
      "text/plain": [
       "KNeighborsClassifier(algorithm='auto', leaf_size=30, metric='minkowski',\n",
       "           metric_params=None, n_jobs=1, n_neighbors=10, p=2,\n",
       "           weights='uniform')"
      ]
     },
     "execution_count": 24,
     "metadata": {},
     "output_type": "execute_result"
    }
   ],
   "source": [
    "from sklearn.neighbors import KNeighborsClassifier\n",
    "\n",
    "knc = KNeighborsClassifier(n_neighbors = 10)\n",
    "\n",
    "knc.fit(train_x, train_y)"
   ]
  },
  {
   "cell_type": "code",
   "execution_count": 25,
   "metadata": {
    "collapsed": false
   },
   "outputs": [],
   "source": [
    "test_label_datas = knc.predict(test_data)"
   ]
  },
  {
   "cell_type": "code",
   "execution_count": 26,
   "metadata": {
    "collapsed": true
   },
   "outputs": [],
   "source": [
    "# show some fig\n",
    "plt.figure(figsize=(18,9))\n",
    "for i in range(25):\n",
    "    ax = plt.subplot2grid((5,5),(i / 5, i % 5))\n",
    "    fig_data = test_fig_datas.iloc[i]\n",
    "    ax.imshow(transformDataFrameFromSeries(fig_data), cmap=plt.cm.gray_r)\n",
    "    plt.title('fig %s label:%s' % (i, test_label_datas[i]))\n",
    "plt.tight_layout()\n",
    "plt.show()"
   ]
  },
  {
   "cell_type": "markdown",
   "metadata": {},
   "source": [
    "和随机森林在同一个数据错了，这个0预测成9了……"
   ]
  },
  {
   "cell_type": "code",
   "execution_count": 27,
   "metadata": {
    "collapsed": true
   },
   "outputs": [],
   "source": [
    "submission = pd.DataFrame({\n",
    "\t\t\t\"ImageId\": range(1, test_data.shape[0]+1),\n",
    "\t\t\t\"label\": test_label_datas})\n",
    "submission.to_csv(\"KNN.csv\", index=False)"
   ]
  },
  {
   "cell_type": "markdown",
   "metadata": {},
   "source": [
    "在kaggle上拿到0.96557分。"
   ]
  },
  {
   "cell_type": "markdown",
   "metadata": {},
   "source": [
    "### 优化尝试"
   ]
  },
  {
   "cell_type": "markdown",
   "metadata": {},
   "source": [
    "从数据清洗上看，首先一份向量由784个像素点组成，每个像素点取值范围是0-255，这个样本空间就很大了，而其实每个像素点应该只有两个有效状态，是不是可以尝试对数据进行进一步降维处理。这个预处理需要确定一个阈值来判定像素点是否有效像素（非黑即白），可以按经验固定一个，也可以由每份向量的平均值来确定。\n",
    "\n",
    "\n",
    "还有是不是可以对图形作“居中”处理，使得距离计算和像素点作为特征更准确。这个貌似需要识别出“有效像素”然后得到“有效图形区域”再平移到画布中点实现居中。"
   ]
  },
  {
   "cell_type": "code",
   "execution_count": 103,
   "metadata": {
    "collapsed": false
   },
   "outputs": [],
   "source": [
    "# 计算二维数据frame的中点\n",
    "def calMeanPointFrame(dataFrame):\n",
    "    acc_index_x = 0\n",
    "    acc_index_y = 0\n",
    "    acc_count = 0\n",
    "    for i in range(dataFrame.shape[0]):\n",
    "        for j in range(dataFrame.shape[1]):\n",
    "            if(dataFrame.loc[i, j] != 0.0):\n",
    "                # accumulate index\n",
    "                acc_index_x += i\n",
    "                acc_index_y += j\n",
    "                acc_count += 1\n",
    "    return (acc_index_x / acc_count, acc_index_y / acc_count)\n",
    "\n",
    "def calMeanPointSeries(dataSeries):\n",
    "    acc_index_x = 0\n",
    "    acc_index_y = 0\n",
    "    acc_count = 0\n",
    "    size = math.sqrt(dataSeries.size)\n",
    "    for i in range(dataSeries.size):\n",
    "        if(dataSeries[i] != 0.0):\n",
    "            # accumulate index\n",
    "            acc_index_x += (i / size)\n",
    "            acc_index_y += (i % size)\n",
    "            acc_count += 1\n",
    "    return [acc_index_x / acc_count, acc_index_y / acc_count]"
   ]
  },
  {
   "cell_type": "code",
   "execution_count": null,
   "metadata": {
    "collapsed": false
   },
   "outputs": [],
   "source": [
    "# meanIndexs = []\n",
    "\n",
    "# for i in range(50):\n",
    "#     meanIndexs.append(calMeanPointSeries(fig_datas.iloc[i]))\n",
    "    \n",
    "# meanIndexFrame = pd.DataFrame(meanIndexs)\n",
    "\n",
    "meanIndexFrame = fig_datas.apply(calMeanPointSeries, axis=1)"
   ]
  },
  {
   "cell_type": "code",
   "execution_count": 97,
   "metadata": {
    "collapsed": false
   },
   "outputs": [],
   "source": [
    "plt.figure(figsize=(9, 6))\n",
    "plt.scatter(meanIndexFrame[0], meanIndexFrame[1], alpha=0.4, marker='o')\n",
    "plt.show()"
   ]
  }
 ],
 "metadata": {
  "kernelspec": {
   "display_name": "Python 2",
   "language": "python",
   "name": "python2"
  },
  "language_info": {
   "codemirror_mode": {
    "name": "ipython",
    "version": 2
   },
   "file_extension": ".py",
   "mimetype": "text/x-python",
   "name": "python",
   "nbconvert_exporter": "python",
   "pygments_lexer": "ipython2",
   "version": "2.7.11"
  }
 },
 "nbformat": 4,
 "nbformat_minor": 2
}
